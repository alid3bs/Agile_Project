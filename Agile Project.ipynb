{
 "cells": [
  {
   "cell_type": "markdown",
   "id": "bb59bcbe",
   "metadata": {},
   "source": [
    "# Packages"
   ]
  },
  {
   "cell_type": "code",
   "execution_count": 1,
   "id": "40a93dd3",
   "metadata": {},
   "outputs": [],
   "source": [
    "import pandas as pd\n",
    "import random"
   ]
  },
  {
   "cell_type": "markdown",
   "id": "1f402d48",
   "metadata": {},
   "source": [
    "# Data"
   ]
  },
  {
   "cell_type": "code",
   "execution_count": 36,
   "id": "7eb9eed8",
   "metadata": {},
   "outputs": [
    {
     "data": {
      "text/html": [
       "<div>\n",
       "<style scoped>\n",
       "    .dataframe tbody tr th:only-of-type {\n",
       "        vertical-align: middle;\n",
       "    }\n",
       "\n",
       "    .dataframe tbody tr th {\n",
       "        vertical-align: top;\n",
       "    }\n",
       "\n",
       "    .dataframe thead th {\n",
       "        text-align: right;\n",
       "    }\n",
       "</style>\n",
       "<table border=\"1\" class=\"dataframe\">\n",
       "  <thead>\n",
       "    <tr style=\"text-align: right;\">\n",
       "      <th></th>\n",
       "      <th>Full_name</th>\n",
       "      <th>Full_address</th>\n",
       "      <th>National_ID</th>\n",
       "      <th>Bank_Account_ID</th>\n",
       "      <th>Age</th>\n",
       "      <th>Guardian_National_ID</th>\n",
       "      <th>Account_Status</th>\n",
       "      <th>Balance</th>\n",
       "      <th>Password</th>\n",
       "    </tr>\n",
       "  </thead>\n",
       "  <tbody>\n",
       "    <tr>\n",
       "      <th>0</th>\n",
       "      <td>ahmed ahmed ali ali</td>\n",
       "      <td>al maineia</td>\n",
       "      <td>1235214789625</td>\n",
       "      <td>818097080</td>\n",
       "      <td>25</td>\n",
       "      <td>-1</td>\n",
       "      <td>1</td>\n",
       "      <td>25000.0</td>\n",
       "      <td>64566</td>\n",
       "    </tr>\n",
       "    <tr>\n",
       "      <th>1</th>\n",
       "      <td>ahmed ahmed ali ali</td>\n",
       "      <td>al maineia</td>\n",
       "      <td>1235214789625</td>\n",
       "      <td>818097080</td>\n",
       "      <td>25</td>\n",
       "      <td>-1</td>\n",
       "      <td>1</td>\n",
       "      <td>25000.0</td>\n",
       "      <td>64566</td>\n",
       "    </tr>\n",
       "    <tr>\n",
       "      <th>2</th>\n",
       "      <td>ali said daebis ali</td>\n",
       "      <td>al quanter</td>\n",
       "      <td>14579630248751</td>\n",
       "      <td>9019068737</td>\n",
       "      <td>20</td>\n",
       "      <td>14579630248751</td>\n",
       "      <td>1</td>\n",
       "      <td>15000.0</td>\n",
       "      <td>32198</td>\n",
       "    </tr>\n",
       "  </tbody>\n",
       "</table>\n",
       "</div>"
      ],
      "text/plain": [
       "              Full_name Full_address     National_ID  Bank_Account_ID  Age  \\\n",
       "0  ahmed ahmed ali ali    al maineia   1235214789625        818097080   25   \n",
       "1  ahmed ahmed ali ali    al maineia   1235214789625        818097080   25   \n",
       "2   ali said daebis ali   al quanter  14579630248751       9019068737   20   \n",
       "\n",
       "   Guardian_National_ID  Account_Status  Balance  Password  \n",
       "0                    -1               1  25000.0     64566  \n",
       "1                    -1               1  25000.0     64566  \n",
       "2        14579630248751               1  15000.0     32198  "
      ]
     },
     "execution_count": 36,
     "metadata": {},
     "output_type": "execute_result"
    }
   ],
   "source": [
    "Database = pd.read_csv('Bank_accounts.csv')\n",
    "Database"
   ]
  },
  {
   "cell_type": "markdown",
   "id": "068729ca",
   "metadata": {},
   "source": [
    "# Bank Account"
   ]
  },
  {
   "cell_type": "code",
   "execution_count": 17,
   "id": "ef40c456",
   "metadata": {},
   "outputs": [],
   "source": [
    "#function generate random number with specific number of digits\n",
    "def n_len_rand(len_, floor=1):\n",
    "    top = 10**len_\n",
    "    if floor > top:\n",
    "        raise ValueError(f\"Floor '{floor}' must be less than requested top '{top}'\")\n",
    "    return int(f'{random.randrange(floor, top):0{len_}}')"
   ]
  },
  {
   "cell_type": "code",
   "execution_count": 18,
   "id": "a3aac8a6",
   "metadata": {},
   "outputs": [],
   "source": [
    "Active= 1\n",
    "Restricted =2 \n",
    "Closed =3"
   ]
  },
  {
   "cell_type": "code",
   "execution_count": 19,
   "id": "d598dd88",
   "metadata": {},
   "outputs": [],
   "source": [
    "class Bank_account:\n",
    "    def __init__(self):\n",
    "        # full name\n",
    "        while True:\n",
    "            print(\"Enter the full name : \",end='')\n",
    "            Fname=input()\n",
    "            no_spaces=Fname.strip().count(' ')\n",
    "            if no_spaces>=3:\n",
    "                self.Full_name=Fname\n",
    "                break\n",
    "            else:\n",
    "                print(\"Enter valid name,You must enter at least first four names\")\n",
    "                \n",
    "        #full adress\n",
    "        print(\"Enter the full adress : \",end='')\n",
    "        Fadd=input()\n",
    "        self.Full_address=Fadd\n",
    "        \n",
    "        # National ID\n",
    "        while True:\n",
    "            print(\"Enter the National ID : \",end='')\n",
    "            NID=input()\n",
    "            no_digit=len(NID.strip())\n",
    "            if no_digit==14:\n",
    "                self.National_ID=int(NID)\n",
    "                break\n",
    "            else:\n",
    "                print(\"Enter valid ID,You must enter National ID which consist of 14 digit Number\")\n",
    "                \n",
    "        #Bank Account ID\n",
    "        self.Bank_Account_ID=n_len_rand(10)\n",
    "        \n",
    "        #Age\n",
    "        print(\"Enter your age : \",end='')\n",
    "        age=int(input())\n",
    "        self.Age=age\n",
    "        if age>=21:\n",
    "            self.Guardian_National_ID=-1\n",
    "        else:\n",
    "            # must have a guardian\n",
    "             while True:\n",
    "                print(\"Enter the Guardian National ID : \",end='')\n",
    "                GNID=input()\n",
    "                no_digit=len(NID.strip())\n",
    "                if no_digit==14:\n",
    "                    self.Guardian_National_ID=int(NID)\n",
    "                    break\n",
    "                else:\n",
    "                    print(\"Enter valid ID,You must enter National ID which consist of 14 digit Number\")\n",
    "        \n",
    "        #Account Status\n",
    "        self.Account_Status=Active\n",
    "        \n",
    "        # Balance\n",
    "        print('Enter the  Balance : ',end='')\n",
    "        self.Balance=float(input())\n",
    "        \n",
    "        #Password\n",
    "        self.Password=n_len_rand(5)\n",
    "        \n",
    "        #add the new account to the data frame\n",
    "\n",
    "        #new_account =vars(self)\n",
    "        \n",
    "        #Bank_accounts=Bank_accounts.append(new_account, ignore_index = True)\n",
    "        \n",
    "        "
   ]
  },
  {
   "cell_type": "code",
   "execution_count": 20,
   "id": "35b4e2ac",
   "metadata": {},
   "outputs": [],
   "source": [
    "# add a new_account to the database\n",
    "def add_account(new_account, database):\n",
    "    \n",
    "    df2 = {'Full_name': new_account.Full_name, 'Full_address': new_account.Full_address,\n",
    "           'National_ID': new_account.National_ID, 'Bank_Account_ID': new_account.Bank_Account_ID,\n",
    "          'Age': new_account.Age, 'Guardian_National_ID': new_account.Guardian_National_ID,\n",
    "          'Account_Status': new_account.Account_Status, 'Balance': new_account.Balance,\n",
    "           'Password' : new_account.Password}\n",
    "\n",
    "    return database.append(df2, ignore_index = True)\n",
    "    \n",
    "    "
   ]
  },
  {
   "cell_type": "code",
   "execution_count": 21,
   "id": "a98054f3",
   "metadata": {},
   "outputs": [],
   "source": [
    "def Make_Transaction(account_ID, Distination_ID, database, money):\n",
    "    \n",
    "    clint_money=database[database['Bank_Account_ID']==account_ID].Balance\n",
    "    \n",
    "    if money>clint_money:\n",
    "        print(\"Can't Make Transaction\")\n",
    "        return\n",
    "             \n",
    "    database.loc[database['Bank_Account_ID']==Distination_ID,'Balance']+=money"
   ]
  },
  {
   "cell_type": "code",
   "execution_count": 22,
   "id": "2bfeeff6",
   "metadata": {},
   "outputs": [],
   "source": [
    "def Change_Account_Status(account_ID, status, database):\n",
    "    \n",
    "    if (database['Bank_Account_ID']==account_ID).any():\n",
    "        database.loc[database['Bank_Account_ID']==account_ID,'Account_Status'] = status\n",
    "    else:\n",
    "        print(\"Account not found\")"
   ]
  },
  {
   "cell_type": "code",
   "execution_count": 23,
   "id": "f02d01cb",
   "metadata": {},
   "outputs": [],
   "source": [
    "def Get_Cash(account_ID, money, database):\n",
    "    \n",
    "        if (database['Bank_Account_ID']==account_ID).any():\n",
    "            \n",
    "            if money > database.loc[database['Bank_Account_ID']==account_ID,'Balance']:\n",
    "                database.loc[database['Bank_Account_ID']==account_ID,'Balance'] -= money\n",
    "            else:\n",
    "                print('Invalid money')\n",
    "                \n",
    "        else:\n",
    "            print(\"Account not found\")\n",
    "    "
   ]
  },
  {
   "cell_type": "code",
   "execution_count": 24,
   "id": "0039ccaf",
   "metadata": {},
   "outputs": [],
   "source": [
    "def Deposit_in_Account(account_ID, money, database):\n",
    "    \n",
    "    if money > 0:\n",
    "    \n",
    "        if (database['Bank_Account_ID']==account_ID).any():\n",
    "            database.loc[database['Bank_Account_ID']==account_ID,'Balance'] += money\n",
    "        else:\n",
    "            print(\"Account not found\")\n",
    "    else:\n",
    "        print('Invalid money')"
   ]
  },
  {
   "cell_type": "code",
   "execution_count": 25,
   "id": "c578086f",
   "metadata": {},
   "outputs": [],
   "source": [
    "def Change_Account_Password(account_ID, password, database):\n",
    "    \n",
    "    if (database['Bank_Account_ID'] == account_ID).any():\n",
    "            database.loc[database['Bank_Account_ID']==account_ID,'Password'] = password\n",
    "    else:\n",
    "        print(\"Account not found\")\n",
    "    "
   ]
  },
  {
   "cell_type": "code",
   "execution_count": 34,
   "id": "3d69bc5d",
   "metadata": {},
   "outputs": [],
   "source": [
    "def save_database(database):\n",
    "    database.to_csv('Bank_accounts.csv', index=False)"
   ]
  }
 ],
 "metadata": {
  "kernelspec": {
   "display_name": "Python 3 (ipykernel)",
   "language": "python",
   "name": "python3"
  },
  "language_info": {
   "codemirror_mode": {
    "name": "ipython",
    "version": 3
   },
   "file_extension": ".py",
   "mimetype": "text/x-python",
   "name": "python",
   "nbconvert_exporter": "python",
   "pygments_lexer": "ipython3",
   "version": "3.10.1"
  }
 },
 "nbformat": 4,
 "nbformat_minor": 5
}
