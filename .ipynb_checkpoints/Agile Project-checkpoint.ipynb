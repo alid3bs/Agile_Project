{
 "cells": [
  {
   "cell_type": "markdown",
   "id": "bb59bcbe",
   "metadata": {},
   "source": [
    "# Packages"
   ]
  },
  {
   "cell_type": "code",
   "execution_count": 32,
   "id": "40a93dd3",
   "metadata": {},
   "outputs": [],
   "source": [
    "import pandas as pd\n",
    "import random"
   ]
  },
  {
   "cell_type": "markdown",
   "id": "1f402d48",
   "metadata": {},
   "source": [
    "# Data"
   ]
  },
  {
   "cell_type": "code",
   "execution_count": 33,
   "id": "7eb9eed8",
   "metadata": {},
   "outputs": [
    {
     "data": {
      "text/html": [
       "<div>\n",
       "<style scoped>\n",
       "    .dataframe tbody tr th:only-of-type {\n",
       "        vertical-align: middle;\n",
       "    }\n",
       "\n",
       "    .dataframe tbody tr th {\n",
       "        vertical-align: top;\n",
       "    }\n",
       "\n",
       "    .dataframe thead th {\n",
       "        text-align: right;\n",
       "    }\n",
       "</style>\n",
       "<table border=\"1\" class=\"dataframe\">\n",
       "  <thead>\n",
       "    <tr style=\"text-align: right;\">\n",
       "      <th></th>\n",
       "      <th>Full_name</th>\n",
       "      <th>Full_address</th>\n",
       "      <th>National_ID</th>\n",
       "      <th>Bank_Account_ID</th>\n",
       "      <th>Age</th>\n",
       "      <th>Guardian_National_ID</th>\n",
       "      <th>Account_Status</th>\n",
       "      <th>Balance</th>\n",
       "      <th>Password</th>\n",
       "    </tr>\n",
       "  </thead>\n",
       "  <tbody>\n",
       "  </tbody>\n",
       "</table>\n",
       "</div>"
      ],
      "text/plain": [
       "Empty DataFrame\n",
       "Columns: [Full_name, Full_address, National_ID, Bank_Account_ID, Age, Guardian_National_ID, Account_Status, Balance, Password]\n",
       "Index: []"
      ]
     },
     "execution_count": 33,
     "metadata": {},
     "output_type": "execute_result"
    }
   ],
   "source": [
    "Bank_accounts=pd.read_csv('Bank_accounts.csv')\n",
    "Bank_accounts"
   ]
  },
  {
   "cell_type": "markdown",
   "id": "068729ca",
   "metadata": {},
   "source": [
    "# Bank Account"
   ]
  },
  {
   "cell_type": "code",
   "execution_count": 34,
   "id": "ef40c456",
   "metadata": {},
   "outputs": [],
   "source": [
    "#function generate random number with specific number of digits\n",
    "def n_len_rand(len_, floor=1):\n",
    "    top = 10**len_\n",
    "    if floor > top:\n",
    "        raise ValueError(f\"Floor '{floor}' must be less than requested top '{top}'\")\n",
    "    return int(f'{random.randrange(floor, top):0{len_}}')"
   ]
  },
  {
   "cell_type": "code",
   "execution_count": 35,
   "id": "a3aac8a6",
   "metadata": {},
   "outputs": [],
   "source": [
    "Active= 1\n",
    "Restricted =2 \n",
    "Closed =3"
   ]
  },
  {
   "cell_type": "code",
   "execution_count": 37,
   "id": "d598dd88",
   "metadata": {},
   "outputs": [],
   "source": [
    "class Bank_account:\n",
    "    def __init__(self):\n",
    "        # full name\n",
    "        while True:\n",
    "            print(\"Enter the full name : \",end='')\n",
    "            Fname=input()\n",
    "            no_spaces=Fname.strip().count(' ')\n",
    "            if no_spaces>=3:\n",
    "                self.Full_name=Fname\n",
    "                break\n",
    "            else:\n",
    "                print(\"Enter valid name,You must enter at least first four names\")\n",
    "                \n",
    "        #full adress\n",
    "        print(\"Enter the full adress : \",end='')\n",
    "        Fadd=input()\n",
    "        self.Full_address=Fadd\n",
    "        \n",
    "        # National ID\n",
    "        while True:\n",
    "            print(\"Enter the National ID : \",end='')\n",
    "            NID=input()\n",
    "            no_digit=len(NID.strip())\n",
    "            if no_digit==14:\n",
    "                self.National_ID=int(NID)\n",
    "                break\n",
    "            else:\n",
    "                print(\"Enter valid ID,You must enter National ID which consist of 14 digit Number\")\n",
    "                \n",
    "        #Bank Account ID\n",
    "        self.Bank_Account_ID=n_len_rand(10)\n",
    "        \n",
    "        #Age\n",
    "        print(\"Enter your age : \",end='')\n",
    "        age=int(input())\n",
    "        self.Age=age\n",
    "        if age>=21:\n",
    "            self.Guardian_National_ID=-1\n",
    "        else:\n",
    "            # must have a guardian\n",
    "             while True:\n",
    "                print(\"Enter the Guardian National ID : \",end='')\n",
    "                GNID=input()\n",
    "                no_digit=len(NID.strip())\n",
    "                if no_digit==14:\n",
    "                    self.Guardian_National_ID=int(NID)\n",
    "                    break\n",
    "                else:\n",
    "                    print(\"Enter valid ID,You must enter National ID which consist of 14 digit Number\")\n",
    "        \n",
    "        #Account Status\n",
    "        self.Account_Status=Active\n",
    "        \n",
    "        # Balance\n",
    "        print('Enter the  Balance : ',end='')\n",
    "        self.Balance=float(input())\n",
    "        \n",
    "        #Password\n",
    "        self.Password=n_len_rand(5)\n",
    "        \n",
    "        #add the new account to the data frame\n",
    "\n",
    "        new_account =vars(self)\n",
    "        \n",
    "        Bank_accounts=Bank_accounts.append(new_account, ignore_index = True)\n",
    "        \n",
    "        "
   ]
  },
  {
   "cell_type": "code",
   "execution_count": 40,
   "id": "a98054f3",
   "metadata": {},
   "outputs": [],
   "source": [
    "def Make_Transaction(source_ID,Distination_ID,  money):\n",
    "    clint_money=Bank_accounts[Bank_accounts['Bank_Account_ID']==source_ID].Balance\n",
    "    if money>clint_money:\n",
    "        print(\"Can't Make Transaction\")\n",
    "        return\n",
    "             \n",
    "    Bank_accounts.loc[Bank_accounts['Bank_Account_ID']==Distination_ID,'Balance']+=money"
   ]
  },
  {
   "cell_type": "code",
   "execution_count": null,
   "id": "2bfeeff6",
   "metadata": {},
   "outputs": [],
   "source": [
    "def Change_Account_Status(source_ID,status):\n",
    "    "
   ]
  },
  {
   "cell_type": "code",
   "execution_count": null,
   "id": "f02d01cb",
   "metadata": {},
   "outputs": [],
   "source": [
    "def Get_Cash(source_ID,money):\n",
    "    "
   ]
  },
  {
   "cell_type": "code",
   "execution_count": null,
   "id": "0039ccaf",
   "metadata": {},
   "outputs": [],
   "source": [
    "def Deposit_in_Account(source_ID,money):\n",
    "    "
   ]
  },
  {
   "cell_type": "code",
   "execution_count": null,
   "id": "c578086f",
   "metadata": {},
   "outputs": [],
   "source": [
    "def Change_Account_Password(source_ID,password):\n",
    "    "
   ]
  }
 ],
 "metadata": {
  "kernelspec": {
   "display_name": "Python 3 (ipykernel)",
   "language": "python",
   "name": "python3"
  },
  "language_info": {
   "codemirror_mode": {
    "name": "ipython",
    "version": 3
   },
   "file_extension": ".py",
   "mimetype": "text/x-python",
   "name": "python",
   "nbconvert_exporter": "python",
   "pygments_lexer": "ipython3",
   "version": "3.9.7"
  }
 },
 "nbformat": 4,
 "nbformat_minor": 5
}
